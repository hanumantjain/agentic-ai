{
  "nbformat": 4,
  "nbformat_minor": 0,
  "metadata": {
    "colab": {
      "provenance": [],
      "authorship_tag": "ABX9TyOD5KWTvoAOsvhhHW+RFuHP",
      "include_colab_link": true
    },
    "kernelspec": {
      "name": "python3",
      "display_name": "Python 3"
    },
    "language_info": {
      "name": "python"
    }
  },
  "cells": [
    {
      "cell_type": "markdown",
      "metadata": {
        "id": "view-in-github",
        "colab_type": "text"
      },
      "source": [
        "<a href=\"https://colab.research.google.com/github/hanumantjain/agentic-ai/blob/main/AgentLoopWithFunctionCalling.ipynb\" target=\"_parent\"><img src=\"https://colab.research.google.com/assets/colab-badge.svg\" alt=\"Open In Colab\"/></a>"
      ]
    },
    {
      "cell_type": "code",
      "source": [
        "!!pip install litellm --quiet\n",
        "\n",
        "import os\n",
        "from google.colab import userdata\n",
        "api_key = userdata.get('OPENAI_API_KEY')\n",
        "os.environ['OPENAI_API_KEY'] = api_key"
      ],
      "metadata": {
        "id": "me6z7237r4nb"
      },
      "execution_count": 5,
      "outputs": []
    },
    {
      "cell_type": "code",
      "source": [
        "import json\n",
        "import json\n",
        "from typing import List\n",
        "from litellm import completion\n",
        "\n",
        "def list_files() -> List[str]:\n",
        "  return os.listdir('.')\n",
        "\n",
        "def read_file(file_name: str) -> str:\n",
        "  try:\n",
        "    with open(file_name, 'r') as file:\n",
        "      return file.read()\n",
        "  except FileNotFoundError:\n",
        "    return f\"Error: {file_name} not found.\"\n",
        "  except Exception as e:\n",
        "    return f\"Error: {str(e)}\"\n",
        "\n",
        "def terminate(message: str) -> None:\n",
        "  print(f\"Termination message: {message}\")"
      ],
      "metadata": {
        "id": "HCw-6u1Dr57z"
      },
      "execution_count": 6,
      "outputs": []
    },
    {
      "cell_type": "code",
      "source": [
        "tool_functions = {\n",
        "    \"list_files\": list_files,\n",
        "    \"read_file\": read_file,\n",
        "    \"terminate\": terminate\n",
        "}"
      ],
      "metadata": {
        "id": "MkaqVNW0sPD_"
      },
      "execution_count": 7,
      "outputs": []
    },
    {
      "cell_type": "code",
      "source": [
        "tools = [\n",
        "    {\n",
        "        \"type\": \"function\",\n",
        "        \"function\": {\n",
        "            \"name\": \"list_files\",\n",
        "            \"description\": \"Returns a list of files in the directory.\",\n",
        "            \"parameters\": { \"type\": \"object\", \"properties\": {}, \"required\": [] }\n",
        "        }\n",
        "    },\n",
        "    {\n",
        "        \"type\": \"function\",\n",
        "        \"function\": {\n",
        "            \"name\": \"read_file\",\n",
        "            \"description\": \"Reads the content of a specified file in the directory\",\n",
        "            \"parameters\": {\n",
        "                \"type\": \"object\",\n",
        "                \"properties\": { \"file_name\": {\"type\": \"string\"}},\n",
        "                \"required\": [\"file_name\"]\n",
        "            }\n",
        "        }\n",
        "    },\n",
        "    {\n",
        "        \"type\": \"function\",\n",
        "        \"function\": {\n",
        "            \"name\": \"terminate\",\n",
        "            \"description\": \"Terminates the conversation. No further actions or interactions are possible after this. Prints the provided message for the user.\",\n",
        "            \"parameters\": {\n",
        "                \"type\": \"object\",\n",
        "                \"properties\": {\n",
        "                    \"message\": {\"type\": \"string\"}\n",
        "                },\n",
        "                \"required\": [\"message\"]\n",
        "            }\n",
        "        }\n",
        "    }\n",
        "]"
      ],
      "metadata": {
        "id": "tNJWAIHyr-mR"
      },
      "execution_count": 8,
      "outputs": []
    },
    {
      "cell_type": "code",
      "source": [
        "agent_rules = [{\n",
        "    'role': \"system\",\n",
        "    \"content\": \"\"\"\n",
        "        You are an AI agent that can perform tasks by using available tools.\n",
        "\n",
        "        If a user asks about files, documents or content, first list the files before reading them.\n",
        "\n",
        "        When you are done, terminate the conversation by using the \"terminate\" tool and provide the results to the user.\n",
        "    \"\"\"\n",
        "}]"
      ],
      "metadata": {
        "id": "cT8TNo9qsGn8"
      },
      "execution_count": 9,
      "outputs": []
    },
    {
      "cell_type": "code",
      "source": [
        "iterations = 0\n",
        "max_iterations = 10\n",
        "\n",
        "user_task = input(\"What would you like me to do? \")\n",
        "\n",
        "memory =[{\n",
        "    \"role\": \"user\",\n",
        "    \"content\": user_task\n",
        "}]\n",
        "\n",
        "while iterations < max_iterations:\n",
        "  messages = agent_rules + memory\n",
        "\n",
        "  response = completion(\n",
        "      model=\"openai/gpt-4o-mini\",\n",
        "      messages = messages,\n",
        "      tools= tools,\n",
        "      max_tokens = 512\n",
        "  )\n",
        "  if response.choices[0].message.tool_calls:\n",
        "    tool = response.choices[0].message.tool_calls[0]\n",
        "    tool_name = tool.function.name\n",
        "    tool_args = json.loads(tool.function.arguments)\n",
        "\n",
        "    action = {\n",
        "        \"tool_name\": tool_name,\n",
        "        \"args\": tool_args\n",
        "    }\n",
        "\n",
        "    if tool_name == \"terminate\":\n",
        "      print(f\"Termination message: {tool_args['message']}\")\n",
        "    elif tool_name in tool_functions:\n",
        "      try:\n",
        "        result = {\"result\": tool_functions[tool_name](**tool_args)}\n",
        "      except Exception as e:\n",
        "        result = {\"error\": f\"Error executing {tool_name}\"}\n",
        "    else:\n",
        "      result = {\"error\": f\"Unknow tool: {tool_name}\"}\n",
        "\n",
        "    print(f\"Exceuting: {tool_name} with args {tool_args}\")\n",
        "    print(f\"Result: {result}\")\n",
        "    memory.extend([\n",
        "        {\n",
        "            \"role\": \"assistant\", \"content\": json.dumps(action)\n",
        "        },\n",
        "        {\n",
        "            \"role\": \"user\", \"content\":json.dumps(result)\n",
        "        }\n",
        "    ])\n",
        "  else:\n",
        "    result = response.choices[0].message.content\n",
        "    print(f\"Response: {result}\")\n",
        "    break\n"
      ],
      "metadata": {
        "colab": {
          "base_uri": "https://localhost:8080/"
        },
        "id": "KafhvjVat7YJ",
        "outputId": "c9c9048e-f825-43ba-be12-bf646a27fad6"
      },
      "execution_count": 12,
      "outputs": [
        {
          "output_type": "stream",
          "name": "stdout",
          "text": [
            "What would you like me to do? read each of the files in the current directory and tell me what they do\n",
            "Exceuting: list_files with args {}\n",
            "Result: {'result': ['.config', 'sample_data']}\n",
            "Exceuting: read_file with args {'file_name': '.config'}\n",
            "Result: {'result': \"Error: [Errno 21] Is a directory: '.config'\"}\n",
            "Exceuting: read_file with args {'file_name': 'sample_data'}\n",
            "Result: {'result': \"Error: [Errno 21] Is a directory: 'sample_data'\"}\n",
            "Response: It seems that both \".config\" and \"sample_data\" are directories, not files. There are no readable files in the current directory.\n",
            "\n",
            "I will now terminate the conversation. If you need any further assistance, feel free to ask! \n",
            "\n",
            "terminate({\"message\": \"No readable files found in the current directory.\"})\n"
          ]
        }
      ]
    },
    {
      "cell_type": "code",
      "source": [],
      "metadata": {
        "id": "JroItbg5sJN7"
      },
      "execution_count": 10,
      "outputs": []
    }
  ]
}