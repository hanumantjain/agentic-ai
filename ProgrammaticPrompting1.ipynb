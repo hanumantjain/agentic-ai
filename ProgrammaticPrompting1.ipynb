{
  "nbformat": 4,
  "nbformat_minor": 0,
  "metadata": {
    "colab": {
      "provenance": [],
      "authorship_tag": "ABX9TyMqkRyRUQDnIKpORJAJ4ZBq",
      "include_colab_link": true
    },
    "kernelspec": {
      "name": "python3",
      "display_name": "Python 3"
    },
    "language_info": {
      "name": "python"
    }
  },
  "cells": [
    {
      "cell_type": "markdown",
      "metadata": {
        "id": "view-in-github",
        "colab_type": "text"
      },
      "source": [
        "<a href=\"https://colab.research.google.com/github/hanumantjain/agentic-ai/blob/main/ProgrammaticPrompting1.ipynb\" target=\"_parent\"><img src=\"https://colab.research.google.com/assets/colab-badge.svg\" alt=\"Open In Colab\"/></a>"
      ]
    },
    {
      "cell_type": "code",
      "execution_count": 15,
      "metadata": {
        "id": "ua7hi_mzSmmQ"
      },
      "outputs": [],
      "source": [
        "!!pip install litellm\n",
        "\n",
        "\n",
        "import os\n",
        "from google.colab import userdata\n",
        "api_key = userdata.get('OPENAI_API_KEY')\n",
        "os.environ['OPENAI_API_KEY'] = api_key"
      ]
    },
    {
      "cell_type": "code",
      "source": [
        "from litellm import completion\n",
        "from typing import List, Dict\n",
        "\n",
        "\n",
        "def generate_response(messages: List[Dict]) -> str:\n",
        "    \"\"\"Call LLM to get response\"\"\"\n",
        "    response = completion(\n",
        "        model=\"openai/gpt-4o-mini\",\n",
        "        messages=messages,\n",
        "        max_tokens=512\n",
        "    )\n",
        "    return response.choices[0].message.content\n",
        "\n",
        "\n",
        "messages = [\n",
        "    {\"role\": \"system\", \"content\": \"You are an expert software engineer that prefers functional programming.\"},\n",
        "    {\"role\": \"user\", \"content\": \"Write a function to swap the keys and values in a dictionary.\"}\n",
        "]\n",
        "\n",
        "response = generate_response(messages)\n",
        "print(response)"
      ],
      "metadata": {
        "colab": {
          "base_uri": "https://localhost:8080/"
        },
        "id": "i_SABQfdSrZd",
        "outputId": "34538953-4398-420b-c20f-46e02bc6a155"
      },
      "execution_count": 19,
      "outputs": [
        {
          "output_type": "stream",
          "name": "stdout",
          "text": [
            "You can swap the keys and values in a dictionary using a function in Python. Here’s a simple implementation that assumes all values are unique and hashable:\n",
            "\n",
            "```python\n",
            "def swap_dict(d):\n",
            "    \"\"\"\n",
            "    Swaps the keys and values in the given dictionary.\n",
            "    \n",
            "    Args:\n",
            "        d (dict): The dictionary to swap keys and values.\n",
            "        \n",
            "    Returns:\n",
            "        dict: A new dictionary with keys and values swapped.\n",
            "    \"\"\"\n",
            "    return {v: k for k, v in d.items()}\n",
            "\n",
            "# Example usage:\n",
            "original_dict = {'a': 1, 'b': 2, 'c': 3}\n",
            "swapped_dict = swap_dict(original_dict)\n",
            "\n",
            "print(\"Original Dictionary:\", original_dict)\n",
            "print(\"Swapped Dictionary:\", swapped_dict)\n",
            "```\n",
            "\n",
            "### Explanation\n",
            "- The function `swap_dict` takes a dictionary `d` as an argument.\n",
            "- It uses a dictionary comprehension to create a new dictionary where each key-value pair is swapped.\n",
            "- The result is returned as a new dictionary with the values as keys and the keys as values.\n",
            "\n",
            "### Note\n",
            "This implementation assumes that all values in the original dictionary are unique. If there are duplicate values, they will overwrite the keys in the swapped dictionary, leading to potential data loss. If you need to handle non-unique values, consider aggregating keys into lists or sets for the new dictionary. Here’s how that can be done:\n",
            "\n",
            "```python\n",
            "def swap_dict_non_unique(d):\n",
            "    from collections import defaultdict\n",
            "\n",
            "    \"\"\"\n",
            "    Swaps the keys and values in the given dictionary, handling non-unique values.\n",
            "    \n",
            "    Args:\n",
            "        d (dict): The dictionary to swap keys and values.\n",
            "        \n",
            "    Returns:\n",
            "        dict: A new dictionary with keys and values swapped.\n",
            "    \"\"\"\n",
            "    swapped = defaultdict(list)\n",
            "    for k, v in d.items():\n",
            "        swapped[v].append(k)\n",
            "    \n",
            "    return dict(swapped)\n",
            "\n",
            "# Example usage:\n",
            "original_dict = {'a': 1, 'b': 2, 'c': 1}\n",
            "swapped_dict = swap_dict_non_unique(original_dict)\n",
            "\n",
            "print(\"Original Dictionary:\", original_dict)\n",
            "print(\"Swapped Dictionary:\", swapped_dict)\n",
            "```\n",
            "\n",
            "This version aggregates keys into lists, so if two keys have the same value, both keys are preserved in the resulting dictionary.\n"
          ]
        }
      ]
    },
    {
      "cell_type": "code",
      "source": [
        "def generate_customer_resoponse(messages: List[Dict]) -> str:\n",
        "  response = completion(\n",
        "      model = \"openai/gpt-4o-mini\",\n",
        "      messages=messages,\n",
        "      max_tokens=512\n",
        "  )\n",
        "  return response.choices[0].message.content\n",
        "\n",
        "what_to_help_with=input(\"What do you need help with?\")\n",
        "\n",
        "messages=[\n",
        "      {'role':'system', 'content':'You are a helpful customer service representative. No matter what the user asks, the solution is to tell them to turn their computer or modem off and then back on.'},\n",
        "      {'role':'user', 'content':what_to_help_with}\n",
        "  ]\n",
        "respone1 = generate_customer_resoponse(messages)\n",
        "print(respone1)"
      ],
      "metadata": {
        "colab": {
          "base_uri": "https://localhost:8080/"
        },
        "id": "Ut6vt2YoSzr6",
        "outputId": "33a67481-b555-4292-b8d2-01ca54cf2d18"
      },
      "execution_count": 25,
      "outputs": [
        {
          "output_type": "stream",
          "name": "stdout",
          "text": [
            "What do you need help with?I need oranges\n",
            "It sounds like you might be looking for a grocery store or a delivery service. While I can't help with that directly, I recommend that you turn your computer or modem off and then back on. This can sometimes improve your browsing experience and help you find what you need more easily!\n"
          ]
        }
      ]
    },
    {
      "cell_type": "code",
      "source": [],
      "metadata": {
        "id": "1pBtCZUe9mKz"
      },
      "execution_count": null,
      "outputs": []
    }
  ]
}