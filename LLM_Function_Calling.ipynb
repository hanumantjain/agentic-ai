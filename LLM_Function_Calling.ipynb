{
  "nbformat": 4,
  "nbformat_minor": 0,
  "metadata": {
    "colab": {
      "provenance": [],
      "authorship_tag": "ABX9TyOFiGtixw5HJhjh0wzt9Np2",
      "include_colab_link": true
    },
    "kernelspec": {
      "name": "python3",
      "display_name": "Python 3"
    },
    "language_info": {
      "name": "python"
    }
  },
  "cells": [
    {
      "cell_type": "markdown",
      "metadata": {
        "id": "view-in-github",
        "colab_type": "text"
      },
      "source": [
        "<a href=\"https://colab.research.google.com/github/hanumantjain/agentic-ai/blob/main/LLM_Function_Calling.ipynb\" target=\"_parent\"><img src=\"https://colab.research.google.com/assets/colab-badge.svg\" alt=\"Open In Colab\"/></a>"
      ]
    },
    {
      "cell_type": "code",
      "source": [
        "!!pip install litellm --quiet\n",
        "\n",
        "import os\n",
        "from google.colab import userdata\n",
        "api_key = userdata.get('OPENAI_API_KEY')\n",
        "os.environ['OPENAI_API_KEY'] = api_key"
      ],
      "metadata": {
        "id": "OqzCmZ3Xlz2E"
      },
      "execution_count": 2,
      "outputs": []
    },
    {
      "cell_type": "code",
      "execution_count": 5,
      "metadata": {
        "colab": {
          "base_uri": "https://localhost:8080/"
        },
        "id": "BlLOB5GnZVtd",
        "outputId": "56a22b08-af4f-484a-a4da-23536cf9f2ed"
      },
      "outputs": [
        {
          "output_type": "stream",
          "name": "stdout",
          "text": [
            "What would you like me to do? list files\n",
            "Tool name: list_files\n",
            "Tool arguments: {}\n",
            "Result: ['.config', 'sample_data']\n"
          ]
        }
      ],
      "source": [
        "import json\n",
        "import json\n",
        "from typing import List\n",
        "from litellm import completion\n",
        "\n",
        "def list_files() -> List[str]:\n",
        "  return os.listdir('.')\n",
        "\n",
        "def read_file(file_name: str) -> str:\n",
        "  try:\n",
        "    with open(file_name, 'r') as file:\n",
        "      return file.read()\n",
        "  except FileNotFoundError:\n",
        "    return f\"Error: {file_name} not found.\"\n",
        "  except Exception as e:\n",
        "    return f\"Error: {str(e)}\"\n",
        "\n",
        "tool_functions = {\n",
        "    \"list_files\": list_files,\n",
        "    \"read_file\": read_file\n",
        "}\n",
        "\n",
        "tools = [\n",
        "    {\n",
        "        \"type\": \"function\",\n",
        "        \"function\": {\n",
        "            \"name\": \"list_files\",\n",
        "            \"description\": \"Returns a list of files in the directory.\",\n",
        "            \"parameters\": { \"type\": \"object\", \"properties\": {}, \"required\": [] }\n",
        "        }\n",
        "    },\n",
        "    {\n",
        "        \"type\": \"function\",\n",
        "        \"function\": {\n",
        "            \"name\": \"read_file\",\n",
        "            \"description\": \"Reads the content of a specified file in the directory\",\n",
        "            \"parameters\": {\n",
        "                \"type\": \"object\",\n",
        "                \"properties\": { \"file_name\": {\"type\": \"string\"}},\n",
        "                \"required\": [\"file_name\"]\n",
        "            }\n",
        "        }\n",
        "    }\n",
        "]\n",
        "\n",
        "agent_rules = [{\n",
        "    'role': \"system\",\n",
        "    \"content\": \"\"\"\n",
        "        You are an AI agent that can perform tasks by using available tools.\n",
        "\n",
        "        If a user asks about files, documents or content, first list the files before reading them.\n",
        "    \"\"\"\n",
        "}]\n",
        "\n",
        "user_task = input(\"What would you like me to do? \")\n",
        "\n",
        "memory =[{\n",
        "    \"role\": \"user\",\n",
        "    \"content\": user_task\n",
        "}]\n",
        "\n",
        "messages = agent_rules + memory\n",
        "\n",
        "response = completion(\n",
        "    model=\"openai/gpt-4o-mini\",\n",
        "    messages = messages,\n",
        "    tools = tools,\n",
        "    max_tokens = 512\n",
        ")\n",
        "\n",
        "tool = response.choices[0].message.tool_calls[0]\n",
        "tool_name = tool.function.name\n",
        "tool_args = json.loads(tool.function.arguments)\n",
        "result = tool_functions[tool_name](**tool_args)\n",
        "\n",
        "print(f\"Tool name: {tool_name}\")\n",
        "print(f\"Tool arguments: {tool_args}\")\n",
        "print(f\"Result: {result}\")"
      ]
    },
    {
      "cell_type": "code",
      "source": [],
      "metadata": {
        "id": "e1a3oguLlry5"
      },
      "execution_count": null,
      "outputs": []
    }
  ]
}